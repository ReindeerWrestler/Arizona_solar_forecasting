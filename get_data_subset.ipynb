{
 "cells": [
  {
   "cell_type": "code",
   "execution_count": 17,
   "metadata": {
    "collapsed": true,
    "pycharm": {
     "name": "#%%\n"
    }
   },
   "outputs": [],
   "source": [
    "import pandas as pd"
   ]
  },
  {
   "cell_type": "markdown",
   "source": [
    "cnn-lstm\n",
    "arima\n",
    "lgbm"
   ],
   "metadata": {
    "collapsed": false,
    "pycharm": {
     "name": "#%% md\n"
    }
   }
  },
  {
   "cell_type": "code",
   "execution_count": 18,
   "outputs": [
    {
     "name": "stderr",
     "output_type": "stream",
     "text": [
      "/home/nelson/anaconda3/envs/web_automation/lib/python3.8/site-packages/IPython/core/interactiveshell.py:3444: DtypeWarning: Columns (18,23) have mixed types.Specify dtype option on import or set low_memory=False.\n",
      "  exec(code_obj, self.user_global_ns, self.user_ns)\n"
     ]
    }
   ],
   "source": [
    "df_flagstaff = pd.read_csv(\"AZ solar data/tucson_data.csv\",  index_col=\"date_time\", parse_dates=True)\n",
    "df_flagstaff = df_flagstaff.drop(columns=['Unnamed: 0', 'cloud_layer_1_set_1d', 'metar_set_1', 'pressure_change_code_set_1',\n",
    "                                          'cloud_layer_2_set_1d', 'cloud_layer_3_set_1d'])"
   ],
   "metadata": {
    "collapsed": false,
    "pycharm": {
     "name": "#%%\n"
    }
   }
  },
  {
   "cell_type": "code",
   "execution_count": 19,
   "outputs": [
    {
     "data": {
      "text/plain": "Index(['altimeter_set_1', 'wind_cardinal_direction_set_1d', 'wind_gust_set_1',\n       'cloud_layer_2_code_set_1', 'cloud_layer_3_code_set_1',\n       'wind_chill_set_1d', 'weather_summary_set_1d', 'heat_index_set_1d',\n       'sea_level_pressure_set_1', 'sea_level_pressure_set_1d',\n       'relative_humidity_set_1', 'cloud_layer_1_code_set_1',\n       'weather_condition_set_1d', 'air_temp_low_6_hour_set_1',\n       'air_temp_high_24_hour_set_1', 'precip_accum_one_hour_set_1',\n       'peak_wind_direction_set_1', 'pressure_set_1d',\n       'pressure_tendency_set_1', 'visibility_set_1', 'peak_wind_speed_set_1',\n       'wind_speed_set_1', 'precip_accum_24_hour_set_1',\n       'precip_accum_three_hour_set_1', 'air_temp_set_1',\n       'air_temp_high_6_hour_set_1', 'dew_point_temperature_set_1d',\n       'ceiling_set_1', 'dew_point_temperature_set_1',\n       'air_temp_low_24_hour_set_1', 'precip_accum_six_hour_set_1',\n       'metar_origin_set_1', 'weather_cond_code_set_1',\n       'wind_direction_set_1'],\n      dtype='object')"
     },
     "execution_count": 19,
     "metadata": {},
     "output_type": "execute_result"
    }
   ],
   "source": [
    "df_flagstaff.columns"
   ],
   "metadata": {
    "collapsed": false,
    "pycharm": {
     "name": "#%%\n"
    }
   }
  },
  {
   "cell_type": "code",
   "execution_count": 20,
   "outputs": [
    {
     "data": {
      "text/plain": "altimeter_set_1                   float64\nwind_cardinal_direction_set_1d     object\nwind_gust_set_1                   float64\ncloud_layer_2_code_set_1          float64\ncloud_layer_3_code_set_1          float64\nwind_chill_set_1d                 float64\nweather_summary_set_1d             object\nheat_index_set_1d                 float64\nsea_level_pressure_set_1          float64\nsea_level_pressure_set_1d         float64\nrelative_humidity_set_1           float64\ncloud_layer_1_code_set_1          float64\nweather_condition_set_1d           object\nair_temp_low_6_hour_set_1         float64\nair_temp_high_24_hour_set_1       float64\nprecip_accum_one_hour_set_1       float64\npeak_wind_direction_set_1         float64\npressure_set_1d                   float64\npressure_tendency_set_1           float64\nvisibility_set_1                  float64\npeak_wind_speed_set_1             float64\nwind_speed_set_1                  float64\nprecip_accum_24_hour_set_1        float64\nprecip_accum_three_hour_set_1     float64\nair_temp_set_1                    float64\nair_temp_high_6_hour_set_1        float64\ndew_point_temperature_set_1d      float64\nceiling_set_1                     float64\ndew_point_temperature_set_1       float64\nair_temp_low_24_hour_set_1        float64\nprecip_accum_six_hour_set_1       float64\nmetar_origin_set_1                float64\nweather_cond_code_set_1           float64\nwind_direction_set_1              float64\ndtype: object"
     },
     "execution_count": 20,
     "metadata": {},
     "output_type": "execute_result"
    }
   ],
   "source": [
    "df_flagstaff.dtypes"
   ],
   "metadata": {
    "collapsed": false,
    "pycharm": {
     "name": "#%%\n"
    }
   }
  },
  {
   "cell_type": "code",
   "execution_count": 21,
   "outputs": [],
   "source": [
    "df_temp = df_flagstaff[\"2005\":\"2010\"]"
   ],
   "metadata": {
    "collapsed": false,
    "pycharm": {
     "name": "#%%\n"
    }
   }
  },
  {
   "cell_type": "code",
   "execution_count": 22,
   "outputs": [],
   "source": [
    "df_temp = df_temp.fillna(0)\n",
    "df_temp.to_csv(\"AZ solar 2005_2010 subset/tucson.csv\")"
   ],
   "metadata": {
    "collapsed": false,
    "pycharm": {
     "name": "#%%\n"
    }
   }
  }
 ],
 "metadata": {
  "kernelspec": {
   "display_name": "Python 3",
   "language": "python",
   "name": "python3"
  },
  "language_info": {
   "codemirror_mode": {
    "name": "ipython",
    "version": 2
   },
   "file_extension": ".py",
   "mimetype": "text/x-python",
   "name": "python",
   "nbconvert_exporter": "python",
   "pygments_lexer": "ipython2",
   "version": "2.7.6"
  }
 },
 "nbformat": 4,
 "nbformat_minor": 0
}